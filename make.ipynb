{
 "cells": [
  {
   "cell_type": "code",
   "execution_count": 1,
   "id": "14e7ab78-f919-4416-9d61-b22595b55a96",
   "metadata": {},
   "outputs": [],
   "source": [
    "from parcels import FieldSet"
   ]
  },
  {
   "cell_type": "code",
   "execution_count": 2,
   "id": "0c6ece7e-b8ba-448c-aaf4-bbfd6ba1a461",
   "metadata": {},
   "outputs": [],
   "source": [
    "# Names of files containing the data\n",
    "velocity_file = \"cmems_mod_glo_phy_anfc_merged-uv_PT1H-i_multi-vars_74.08W-72.42W_37.67S-35.42S_0.49m_2023-01-01-2023-12-31.nc\"\n",
    "filenames = {\n",
    "    'U': velocity_file,\n",
    "    'V': velocity_file\n",
    "}"
   ]
  },
  {
   "cell_type": "code",
   "execution_count": 3,
   "id": "b113f8df-560c-4e49-91cf-6a2a8034d0cb",
   "metadata": {},
   "outputs": [],
   "source": [
    "# Names of the velocity component data in the file\n",
    "variables = {\n",
    "    'U': 'uo',\n",
    "    'V': 'uo'\n",
    "}"
   ]
  },
  {
   "cell_type": "code",
   "execution_count": 4,
   "id": "3ead975d-66bf-41e2-862a-50a3bddd3680",
   "metadata": {},
   "outputs": [],
   "source": [
    "# Names of the dimensions in the file\n",
    "dimensions = {\n",
    "    'lat': 'latitude',\n",
    "    'lon': 'longitude',\n",
    "    'time': 'time'\n",
    "}\n",
    "# Create the FieldSet object\n",
    "fieldset = FieldSet.from_netcdf(filenames, variables, dimensions)"
   ]
  },
  {
   "cell_type": "code",
   "execution_count": 5,
   "id": "841ab357-3b5b-410e-b904-3c6a6b166bd2",
   "metadata": {},
   "outputs": [
    {
     "name": "stdout",
     "output_type": "stream",
     "text": [
      "Variable        Type        Data/Info\n",
      "-------------------------------------\n",
      "FieldSet        type        <class 'parcels.fieldset.FieldSet'>\n",
      "dimensions      dict        n=3\n",
      "fieldset        FieldSet    <parcels.fieldset.FieldSe<...>object at 0x7f1af3dacc50>\n",
      "filenames       dict        n=2\n",
      "variables       dict        n=2\n",
      "velocity_file   str         cmems_mod_glo_phy_anfc_me<...>_2023-01-01-2023-12-31.nc\n"
     ]
    }
   ],
   "source": [
    "whos"
   ]
  },
  {
   "cell_type": "code",
   "execution_count": 6,
   "id": "181b42b3-a393-45e4-bb49-35df379c090b",
   "metadata": {
    "scrolled": true
   },
   "outputs": [
    {
     "data": {
      "text/plain": [
       "{'U': 'uo', 'V': 'uo'}"
      ]
     },
     "execution_count": 6,
     "metadata": {},
     "output_type": "execute_result"
    }
   ],
   "source": [
    "variables"
   ]
  },
  {
   "cell_type": "code",
   "execution_count": 7,
   "id": "c42b8ba6-61d6-45b8-aed1-3579ceb636a3",
   "metadata": {},
   "outputs": [
    {
     "data": {
      "text/plain": [
       "parcels.fieldset.FieldSet"
      ]
     },
     "execution_count": 7,
     "metadata": {},
     "output_type": "execute_result"
    }
   ],
   "source": [
    "FieldSet"
   ]
  },
  {
   "cell_type": "code",
   "execution_count": 9,
   "id": "26fe98ef-b160-4290-9b4c-b5343d4db9d8",
   "metadata": {},
   "outputs": [
    {
     "name": "stdout",
     "output_type": "stream",
     "text": [
      "CPU times: user 2 µs, sys: 1 µs, total: 3 µs\n",
      "Wall time: 5.01 µs\n"
     ]
    }
   ],
   "source": [
    "time"
   ]
  },
  {
   "cell_type": "code",
   "execution_count": null,
   "id": "688be692-0e01-4566-a553-a3d1ab5ab9b3",
   "metadata": {},
   "outputs": [],
   "source": []
  },
  {
   "cell_type": "code",
   "execution_count": null,
   "id": "8b4ed120-ac81-4220-b50c-5f6895541576",
   "metadata": {},
   "outputs": [],
   "source": []
  },
  {
   "cell_type": "code",
   "execution_count": 5,
   "id": "d4c82221-4767-48de-b244-2e7ab0e3ec29",
   "metadata": {},
   "outputs": [],
   "source": [
    "from parcels import JITParticle, ParticleSet, Variable\n",
    "\n",
    "# Define a new particleclass with Variable 'age' with initial value 0.\n",
    "AgeParticle = JITParticle.add_variable(Variable(\"age\", initial=0))\n",
    "\n",
    "pset = ParticleSet(\n",
    "    fieldset=fieldset,  # the fields that the particleset uses\n",
    "    pclass=AgeParticle,  # define the type of particle\n",
    "    lon=-73.1217,  # release longitude\n",
    "    lat=-36.4137,  # release latitude\n",
    ")"
   ]
  },
  {
   "cell_type": "code",
   "execution_count": 6,
   "id": "336b17bd-6d27-4049-86b7-8978a5204f50",
   "metadata": {},
   "outputs": [],
   "source": [
    "# load basic advection kernels\n",
    "from parcels import AdvectionRK4\n",
    "\n",
    "# Create a custom kernel which displaces each particle southward\n",
    "\n",
    "\n",
    "def NorthVel(particle, fieldset, time):\n",
    "    if time > 10 * 86400 and time < 10.2 * 86400:\n",
    "        vvel = -1e-4\n",
    "        particle_dlat += vvel * particle.dt\n",
    "\n",
    "\n",
    "# Create a custom kernel which keeps track of the particle age (minutes)\n",
    "\n",
    "\n",
    "def Age(particle, fieldset, time):\n",
    "    particle.age += particle.dt / 3600\n",
    "\n",
    "\n",
    "# define all kernels to be executed on particles using an (ordered) list\n",
    "kernels = [Age, NorthVel, AdvectionRK4]"
   ]
  },
  {
   "cell_type": "code",
   "execution_count": 7,
   "id": "97898b4a-2f82-4b23-8236-e95c244675c6",
   "metadata": {},
   "outputs": [
    {
     "name": "stdout",
     "output_type": "stream",
     "text": [
      "INFO: Output files are stored in Test001.zarr.\n",
      " 42%|██████████▉               | 871200.0/2073600.0 [00:07<00:10, 115288.29it/s]"
     ]
    },
    {
     "ename": "FieldOutOfBoundError",
     "evalue": "Field sampled out-of-bound, at (-73.25740051269531, -37.692867279052734, 0.0)",
     "output_type": "error",
     "traceback": [
      "\u001b[0;31m---------------------------------------------------------------------------\u001b[0m",
      "\u001b[0;31mFieldOutOfBoundError\u001b[0m                      Traceback (most recent call last)",
      "Cell \u001b[0;32mIn[7], line 7\u001b[0m\n\u001b[1;32m      1\u001b[0m output_file \u001b[38;5;241m=\u001b[39m pset\u001b[38;5;241m.\u001b[39mParticleFile(\n\u001b[1;32m      2\u001b[0m     name\u001b[38;5;241m=\u001b[39m\u001b[38;5;124m\"\u001b[39m\u001b[38;5;124mTest001.zarr\u001b[39m\u001b[38;5;124m\"\u001b[39m,  \u001b[38;5;66;03m# the name of the output file\u001b[39;00m\n\u001b[1;32m      3\u001b[0m     outputdt\u001b[38;5;241m=\u001b[39m\u001b[38;5;241m3600\u001b[39m,  \u001b[38;5;66;03m# the time period between consecutive out output steps\u001b[39;00m\n\u001b[1;32m      4\u001b[0m     chunks\u001b[38;5;241m=\u001b[39m(\u001b[38;5;241m1\u001b[39m, \u001b[38;5;241m10\u001b[39m),  \u001b[38;5;66;03m# the chunking of the output file (number of particles, timesteps)\u001b[39;00m\n\u001b[1;32m      5\u001b[0m )\n\u001b[0;32m----> 7\u001b[0m \u001b[43mpset\u001b[49m\u001b[38;5;241;43m.\u001b[39;49m\u001b[43mexecute\u001b[49m\u001b[43m(\u001b[49m\n\u001b[1;32m      8\u001b[0m \u001b[43m    \u001b[49m\u001b[43mkernels\u001b[49m\u001b[43m,\u001b[49m\u001b[43m  \u001b[49m\u001b[38;5;66;43;03m# the kernel (which defines how particles move)\u001b[39;49;00m\n\u001b[1;32m      9\u001b[0m \u001b[43m    \u001b[49m\u001b[43mruntime\u001b[49m\u001b[38;5;241;43m=\u001b[39;49m\u001b[38;5;241;43m86400\u001b[39;49m\u001b[43m \u001b[49m\u001b[38;5;241;43m*\u001b[39;49m\u001b[43m \u001b[49m\u001b[38;5;241;43m24\u001b[39;49m\u001b[43m,\u001b[49m\u001b[43m  \u001b[49m\u001b[38;5;66;43;03m# the total length of the run in seconds\u001b[39;49;00m\n\u001b[1;32m     10\u001b[0m \u001b[43m    \u001b[49m\u001b[43mdt\u001b[49m\u001b[38;5;241;43m=\u001b[39;49m\u001b[38;5;241;43m300\u001b[39;49m\u001b[43m,\u001b[49m\u001b[43m  \u001b[49m\u001b[38;5;66;43;03m# the timestep of the kernel in seconds\u001b[39;49;00m\n\u001b[1;32m     11\u001b[0m \u001b[43m    \u001b[49m\u001b[43moutput_file\u001b[49m\u001b[38;5;241;43m=\u001b[39;49m\u001b[43moutput_file\u001b[49m\u001b[43m,\u001b[49m\n\u001b[1;32m     12\u001b[0m \u001b[43m)\u001b[49m\n",
      "File \u001b[0;32m~/anaconda3/envs/parcels/lib/python3.12/site-packages/parcels/particleset.py:951\u001b[0m, in \u001b[0;36mParticleSet.execute\u001b[0;34m(self, pyfunc, pyfunc_inter, endtime, runtime, dt, output_file, verbose_progress, postIterationCallbacks, callbackdt)\u001b[0m\n\u001b[1;32m    949\u001b[0m \u001b[38;5;66;03m# If we don't perform interaction, only execute the normal kernel efficiently.\u001b[39;00m\n\u001b[1;32m    950\u001b[0m \u001b[38;5;28;01mif\u001b[39;00m \u001b[38;5;28mself\u001b[39m\u001b[38;5;241m.\u001b[39minteraction_kernel \u001b[38;5;129;01mis\u001b[39;00m \u001b[38;5;28;01mNone\u001b[39;00m:\n\u001b[0;32m--> 951\u001b[0m     res \u001b[38;5;241m=\u001b[39m \u001b[38;5;28;43mself\u001b[39;49m\u001b[38;5;241;43m.\u001b[39;49m\u001b[43mkernel\u001b[49m\u001b[38;5;241;43m.\u001b[39;49m\u001b[43mexecute\u001b[49m\u001b[43m(\u001b[49m\u001b[38;5;28;43mself\u001b[39;49m\u001b[43m,\u001b[49m\u001b[43m \u001b[49m\u001b[43mendtime\u001b[49m\u001b[38;5;241;43m=\u001b[39;49m\u001b[43mnext_time\u001b[49m\u001b[43m,\u001b[49m\u001b[43m \u001b[49m\u001b[43mdt\u001b[49m\u001b[38;5;241;43m=\u001b[39;49m\u001b[43mdt\u001b[49m\u001b[43m)\u001b[49m\n\u001b[1;32m    952\u001b[0m     \u001b[38;5;28;01mif\u001b[39;00m res \u001b[38;5;241m==\u001b[39m StatusCode\u001b[38;5;241m.\u001b[39mStopAllExecution:\n\u001b[1;32m    953\u001b[0m         \u001b[38;5;28;01mreturn\u001b[39;00m StatusCode\u001b[38;5;241m.\u001b[39mStopAllExecution\n",
      "File \u001b[0;32m~/anaconda3/envs/parcels/lib/python3.12/site-packages/parcels/kernel.py:585\u001b[0m, in \u001b[0;36mKernel.execute\u001b[0;34m(self, pset, endtime, dt)\u001b[0m\n\u001b[1;32m    583\u001b[0m     \u001b[38;5;28;01mraise\u001b[39;00m TimeExtrapolationError(p\u001b[38;5;241m.\u001b[39mtime)\n\u001b[1;32m    584\u001b[0m \u001b[38;5;28;01melif\u001b[39;00m p\u001b[38;5;241m.\u001b[39mstate \u001b[38;5;241m==\u001b[39m StatusCode\u001b[38;5;241m.\u001b[39mErrorOutOfBounds:\n\u001b[0;32m--> 585\u001b[0m     \u001b[38;5;28;01mraise\u001b[39;00m FieldOutOfBoundError(p\u001b[38;5;241m.\u001b[39mlon, p\u001b[38;5;241m.\u001b[39mlat, p\u001b[38;5;241m.\u001b[39mdepth)\n\u001b[1;32m    586\u001b[0m \u001b[38;5;28;01melif\u001b[39;00m p\u001b[38;5;241m.\u001b[39mstate \u001b[38;5;241m==\u001b[39m StatusCode\u001b[38;5;241m.\u001b[39mErrorThroughSurface:\n\u001b[1;32m    587\u001b[0m     \u001b[38;5;28;01mraise\u001b[39;00m FieldOutOfBoundSurfaceError(p\u001b[38;5;241m.\u001b[39mlon, p\u001b[38;5;241m.\u001b[39mlat, p\u001b[38;5;241m.\u001b[39mdepth)\n",
      "\u001b[0;31mFieldOutOfBoundError\u001b[0m: Field sampled out-of-bound, at (-73.25740051269531, -37.692867279052734, 0.0)"
     ]
    },
    {
     "name": "stdout",
     "output_type": "stream",
     "text": [
      " 42%|██████████▉               | 875100.0/2073600.0 [00:19<00:10, 115288.29it/s]"
     ]
    }
   ],
   "source": [
    "output_file = pset.ParticleFile(\n",
    "    name=\"Test001.zarr\",  # the name of the output file\n",
    "    outputdt=3600,  # the time period between consecutive out output steps\n",
    "    chunks=(1, 10),  # the chunking of the output file (number of particles, timesteps)\n",
    ")\n",
    "\n",
    "pset.execute(\n",
    "    kernels,  # the kernel (which defines how particles move)\n",
    "    runtime=86400 * 24,  # the total length of the run in seconds\n",
    "    dt=300,  # the timestep of the kernel in seconds\n",
    "    output_file=output_file,\n",
    ")"
   ]
  }
 ],
 "metadata": {
  "kernelspec": {
   "display_name": "Python 3 (ipykernel)",
   "language": "python",
   "name": "python3"
  },
  "language_info": {
   "codemirror_mode": {
    "name": "ipython",
    "version": 3
   },
   "file_extension": ".py",
   "mimetype": "text/x-python",
   "name": "python",
   "nbconvert_exporter": "python",
   "pygments_lexer": "ipython3",
   "version": "3.12.2"
  }
 },
 "nbformat": 4,
 "nbformat_minor": 5
}
